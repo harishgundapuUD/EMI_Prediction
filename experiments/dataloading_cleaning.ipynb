{
 "cells": [
  {
   "cell_type": "code",
   "execution_count": 15,
   "id": "fe4d13d4",
   "metadata": {},
   "outputs": [
    {
     "name": "stderr",
     "output_type": "stream",
     "text": [
      "C:\\Users\\haris\\AppData\\Local\\Temp\\ipykernel_8880\\1595146871.py:3: DtypeWarning: Columns (0) have mixed types. Specify dtype option on import or set low_memory=False.\n",
      "  data = pd.read_csv(r\"../dataset/emi_prediction_dataset.csv\")\n"
     ]
    }
   ],
   "source": [
    "import pandas as pd\n",
    "\n",
    "data = pd.read_csv(r\"../dataset/emi_prediction_dataset.csv\")\n",
    "\n",
    "edu_categories = ['High School', 'Graduate', 'Post Graduate', 'Professional']\n",
    "company_categories = ['Startup', 'Small', 'Mid-size', 'Large Indian', 'MNC']\n",
    "\n",
    "data['age'] = (\n",
    "    data['age'].astype(str)\n",
    "    .str.strip()                              # remove spaces\n",
    "    .str.replace(r'[^0-9.]', '', regex=True)  # keep only digits and dots\n",
    "    .str.replace(r'(\\.\\d*)\\..*', r'\\1', regex=True)  # keep only first decimal part\n",
    "    .astype(float)\n",
    ")\n",
    "\n",
    "data['gender'] = data['gender'].astype(str).str.strip().str.lower()\n",
    "data['gender'] = data['gender'].replace({'^m$': 'male', '^f$': 'female'}, regex=True)\n",
    "data['gender'] = data['gender'].replace(r'^\\s*$', pd.NA, regex=True)\n",
    "data['gender'] = data['gender'].map({'male': 0, 'female': 1})\n",
    "\n",
    "data['marital_status'] = data['marital_status'].astype(str).str.strip().str.lower()\n",
    "data['marital_status'] = data['marital_status'].replace(r'^\\s*$', pd.NA, regex=True)\n",
    "data['marital_status'] = data['marital_status'].map({'single': 0, 'married': 1})\n",
    "\n",
    "data[\"education\"] = pd.Series(\n",
    "    pd.Categorical(data[\"education\"], categories=edu_categories, ordered=True).codes\n",
    ").replace({-1: pd.NA})\n",
    "\n",
    "data[\"monthly_salary\"] = pd.to_numeric(data[\"monthly_salary\"], errors='coerce')\n",
    "\n",
    "# data[\"employment_type\"] = pd.get_dummies(data[\"employment_type\"]).add_suffix(\"_job\")\n",
    "\n",
    "data = pd.get_dummies(data, columns=[\"employment_type\"], dtype=\"int\") \n",
    "\n",
    "\n",
    "data['company_type'] = pd.Series(\n",
    "    pd.Categorical(data[\"company_type\"], categories=company_categories, ordered=True).codes\n",
    ").replace({-1: pd.NA})\n",
    "\n",
    "\n",
    "data[\"bank_balance\"] = pd.to_numeric(data[\"bank_balance\"], errors=\"coerce\")\n",
    "\n",
    "\n",
    "# data['existing_loans'] = data['existing_loans'].astype(str).str.strip().str.lower()\n",
    "# data['existing_loans'] = data['existing_loans'].replace(r'^\\s*$', pd.NA, regex=True)\n",
    "# data['existing_loans'] = data['existing_loans'].map({'no': 0, 'yes': 1})"
   ]
  },
  {
   "cell_type": "code",
   "execution_count": 16,
   "id": "e742a3f4",
   "metadata": {},
   "outputs": [
    {
     "data": {
      "text/plain": [
       "array(['Yes', 'No'], dtype=object)"
      ]
     },
     "execution_count": 16,
     "metadata": {},
     "output_type": "execute_result"
    }
   ],
   "source": [
    "data[\"existing_loans\"].unique()"
   ]
  },
  {
   "cell_type": "code",
   "execution_count": 27,
   "id": "3797ee9a",
   "metadata": {},
   "outputs": [
    {
     "data": {
      "text/plain": [
       "age                       float64\n",
       "gender                      int64\n",
       "marital_status              int64\n",
       "education                  object\n",
       "monthly_salary             object\n",
       "employment_type            object\n",
       "years_of_employment       float64\n",
       "company_type               object\n",
       "house_type                 object\n",
       "monthly_rent              float64\n",
       "family_size                 int64\n",
       "dependents                  int64\n",
       "school_fees               float64\n",
       "college_fees              float64\n",
       "travel_expenses           float64\n",
       "groceries_utilities       float64\n",
       "other_monthly_expenses    float64\n",
       "existing_loans              int64\n",
       "current_emi_amount        float64\n",
       "credit_score              float64\n",
       "bank_balance               object\n",
       "emergency_fund            float64\n",
       "emi_scenario               object\n",
       "requested_amount          float64\n",
       "requested_tenure            int64\n",
       "emi_eligibility            object\n",
       "max_monthly_emi           float64\n",
       "dtype: object"
      ]
     },
     "execution_count": 27,
     "metadata": {},
     "output_type": "execute_result"
    }
   ],
   "source": [
    "data.dtypes"
   ]
  },
  {
   "cell_type": "code",
   "execution_count": 26,
   "id": "1d14b6b7",
   "metadata": {},
   "outputs": [
    {
     "data": {
      "text/plain": [
       "array([38., 58., 48., 32., 27., 47., 37., 31., 59., 49., 33., 26., 39.,\n",
       "       57., 28.])"
      ]
     },
     "execution_count": 26,
     "metadata": {},
     "output_type": "execute_result"
    }
   ],
   "source": [
    "data[\"age\"].unique()"
   ]
  },
  {
   "cell_type": "code",
   "execution_count": 2,
   "id": "2a59d2e4",
   "metadata": {},
   "outputs": [
    {
     "data": {
      "text/html": [
       "<div>\n",
       "<style scoped>\n",
       "    .dataframe tbody tr th:only-of-type {\n",
       "        vertical-align: middle;\n",
       "    }\n",
       "\n",
       "    .dataframe tbody tr th {\n",
       "        vertical-align: top;\n",
       "    }\n",
       "\n",
       "    .dataframe thead th {\n",
       "        text-align: right;\n",
       "    }\n",
       "</style>\n",
       "<table border=\"1\" class=\"dataframe\">\n",
       "  <thead>\n",
       "    <tr style=\"text-align: right;\">\n",
       "      <th></th>\n",
       "      <th>age</th>\n",
       "      <th>gender</th>\n",
       "      <th>marital_status</th>\n",
       "      <th>education</th>\n",
       "      <th>monthly_salary</th>\n",
       "      <th>employment_type</th>\n",
       "      <th>years_of_employment</th>\n",
       "      <th>company_type</th>\n",
       "      <th>house_type</th>\n",
       "      <th>monthly_rent</th>\n",
       "      <th>...</th>\n",
       "      <th>existing_loans</th>\n",
       "      <th>current_emi_amount</th>\n",
       "      <th>credit_score</th>\n",
       "      <th>bank_balance</th>\n",
       "      <th>emergency_fund</th>\n",
       "      <th>emi_scenario</th>\n",
       "      <th>requested_amount</th>\n",
       "      <th>requested_tenure</th>\n",
       "      <th>emi_eligibility</th>\n",
       "      <th>max_monthly_emi</th>\n",
       "    </tr>\n",
       "  </thead>\n",
       "  <tbody>\n",
       "    <tr>\n",
       "      <th>0</th>\n",
       "      <td>38.0</td>\n",
       "      <td>Female</td>\n",
       "      <td>Married</td>\n",
       "      <td>Professional</td>\n",
       "      <td>82600.0</td>\n",
       "      <td>Private</td>\n",
       "      <td>0.9</td>\n",
       "      <td>Mid-size</td>\n",
       "      <td>Rented</td>\n",
       "      <td>20000.0</td>\n",
       "      <td>...</td>\n",
       "      <td>Yes</td>\n",
       "      <td>23700.0</td>\n",
       "      <td>660.0</td>\n",
       "      <td>303200.0</td>\n",
       "      <td>70200.0</td>\n",
       "      <td>Personal Loan EMI</td>\n",
       "      <td>850000.0</td>\n",
       "      <td>15</td>\n",
       "      <td>Not_Eligible</td>\n",
       "      <td>500.0</td>\n",
       "    </tr>\n",
       "    <tr>\n",
       "      <th>1</th>\n",
       "      <td>38.0</td>\n",
       "      <td>Female</td>\n",
       "      <td>Married</td>\n",
       "      <td>Graduate</td>\n",
       "      <td>21500.0</td>\n",
       "      <td>Private</td>\n",
       "      <td>7.0</td>\n",
       "      <td>MNC</td>\n",
       "      <td>Family</td>\n",
       "      <td>0.0</td>\n",
       "      <td>...</td>\n",
       "      <td>Yes</td>\n",
       "      <td>4100.0</td>\n",
       "      <td>714.0</td>\n",
       "      <td>92500.0</td>\n",
       "      <td>26900.0</td>\n",
       "      <td>E-commerce Shopping EMI</td>\n",
       "      <td>128000.0</td>\n",
       "      <td>19</td>\n",
       "      <td>Not_Eligible</td>\n",
       "      <td>700.0</td>\n",
       "    </tr>\n",
       "    <tr>\n",
       "      <th>2</th>\n",
       "      <td>38.0</td>\n",
       "      <td>Male</td>\n",
       "      <td>Married</td>\n",
       "      <td>Professional</td>\n",
       "      <td>86100.0</td>\n",
       "      <td>Private</td>\n",
       "      <td>5.8</td>\n",
       "      <td>Startup</td>\n",
       "      <td>Own</td>\n",
       "      <td>0.0</td>\n",
       "      <td>...</td>\n",
       "      <td>No</td>\n",
       "      <td>0.0</td>\n",
       "      <td>650.0</td>\n",
       "      <td>672100.0</td>\n",
       "      <td>324200.0</td>\n",
       "      <td>Education EMI</td>\n",
       "      <td>306000.0</td>\n",
       "      <td>16</td>\n",
       "      <td>Eligible</td>\n",
       "      <td>27775.0</td>\n",
       "    </tr>\n",
       "    <tr>\n",
       "      <th>3</th>\n",
       "      <td>58.0</td>\n",
       "      <td>Female</td>\n",
       "      <td>Married</td>\n",
       "      <td>High School</td>\n",
       "      <td>66800.0</td>\n",
       "      <td>Private</td>\n",
       "      <td>2.2</td>\n",
       "      <td>Mid-size</td>\n",
       "      <td>Own</td>\n",
       "      <td>0.0</td>\n",
       "      <td>...</td>\n",
       "      <td>No</td>\n",
       "      <td>0.0</td>\n",
       "      <td>685.0</td>\n",
       "      <td>440900.0</td>\n",
       "      <td>178100.0</td>\n",
       "      <td>Vehicle EMI</td>\n",
       "      <td>304000.0</td>\n",
       "      <td>83</td>\n",
       "      <td>Eligible</td>\n",
       "      <td>16170.0</td>\n",
       "    </tr>\n",
       "    <tr>\n",
       "      <th>4</th>\n",
       "      <td>48.0</td>\n",
       "      <td>Female</td>\n",
       "      <td>Married</td>\n",
       "      <td>Professional</td>\n",
       "      <td>57300.0</td>\n",
       "      <td>Private</td>\n",
       "      <td>3.4</td>\n",
       "      <td>Mid-size</td>\n",
       "      <td>Family</td>\n",
       "      <td>0.0</td>\n",
       "      <td>...</td>\n",
       "      <td>No</td>\n",
       "      <td>0.0</td>\n",
       "      <td>770.0</td>\n",
       "      <td>97300.0</td>\n",
       "      <td>28200.0</td>\n",
       "      <td>Home Appliances EMI</td>\n",
       "      <td>252000.0</td>\n",
       "      <td>7</td>\n",
       "      <td>Not_Eligible</td>\n",
       "      <td>500.0</td>\n",
       "    </tr>\n",
       "  </tbody>\n",
       "</table>\n",
       "<p>5 rows × 27 columns</p>\n",
       "</div>"
      ],
      "text/plain": [
       "    age  gender marital_status     education monthly_salary employment_type  \\\n",
       "0  38.0  Female        Married  Professional        82600.0         Private   \n",
       "1  38.0  Female        Married      Graduate        21500.0         Private   \n",
       "2  38.0    Male        Married  Professional        86100.0         Private   \n",
       "3  58.0  Female        Married   High School        66800.0         Private   \n",
       "4  48.0  Female        Married  Professional        57300.0         Private   \n",
       "\n",
       "   years_of_employment company_type house_type  monthly_rent  ...  \\\n",
       "0                  0.9     Mid-size     Rented       20000.0  ...   \n",
       "1                  7.0          MNC     Family           0.0  ...   \n",
       "2                  5.8      Startup        Own           0.0  ...   \n",
       "3                  2.2     Mid-size        Own           0.0  ...   \n",
       "4                  3.4     Mid-size     Family           0.0  ...   \n",
       "\n",
       "   existing_loans  current_emi_amount  credit_score  bank_balance  \\\n",
       "0             Yes             23700.0         660.0      303200.0   \n",
       "1             Yes              4100.0         714.0       92500.0   \n",
       "2              No                 0.0         650.0      672100.0   \n",
       "3              No                 0.0         685.0      440900.0   \n",
       "4              No                 0.0         770.0       97300.0   \n",
       "\n",
       "   emergency_fund             emi_scenario  requested_amount requested_tenure  \\\n",
       "0         70200.0        Personal Loan EMI          850000.0               15   \n",
       "1         26900.0  E-commerce Shopping EMI          128000.0               19   \n",
       "2        324200.0            Education EMI          306000.0               16   \n",
       "3        178100.0              Vehicle EMI          304000.0               83   \n",
       "4         28200.0      Home Appliances EMI          252000.0                7   \n",
       "\n",
       "   emi_eligibility  max_monthly_emi  \n",
       "0     Not_Eligible            500.0  \n",
       "1     Not_Eligible            700.0  \n",
       "2         Eligible          27775.0  \n",
       "3         Eligible          16170.0  \n",
       "4     Not_Eligible            500.0  \n",
       "\n",
       "[5 rows x 27 columns]"
      ]
     },
     "execution_count": 2,
     "metadata": {},
     "output_type": "execute_result"
    }
   ],
   "source": [
    "data.head()"
   ]
  },
  {
   "cell_type": "code",
   "execution_count": 3,
   "id": "69c8c56d",
   "metadata": {},
   "outputs": [
    {
     "data": {
      "text/plain": [
       "<bound method DataFrame.count of          age  gender marital_status      education monthly_salary  \\\n",
       "0       38.0  Female        Married   Professional        82600.0   \n",
       "1       38.0  Female        Married       Graduate        21500.0   \n",
       "2       38.0    Male        Married   Professional        86100.0   \n",
       "3       58.0  Female        Married    High School        66800.0   \n",
       "4       48.0  Female        Married   Professional        57300.0   \n",
       "...      ...     ...            ...            ...            ...   \n",
       "404795  27.0    Male        Married       Graduate        32400.0   \n",
       "404796  38.0    Male        Married  Post Graduate        49200.0   \n",
       "404797  32.0    Male         Single       Graduate        25700.0   \n",
       "404798  48.0    Male        Married       Graduate        47200.0   \n",
       "404799  38.0  FEMALE        Married       Graduate        34900.0   \n",
       "\n",
       "       employment_type  years_of_employment  company_type house_type  \\\n",
       "0              Private                  0.9      Mid-size     Rented   \n",
       "1              Private                  7.0           MNC     Family   \n",
       "2              Private                  5.8       Startup        Own   \n",
       "3              Private                  2.2      Mid-size        Own   \n",
       "4              Private                  3.4      Mid-size     Family   \n",
       "...                ...                  ...           ...        ...   \n",
       "404795         Private                  5.0  Large Indian     Rented   \n",
       "404796         Private                  1.9           MNC        Own   \n",
       "404797         Private                  3.2           MNC     Rented   \n",
       "404798         Private                  3.0           MNC        Own   \n",
       "404799         Private                  1.2           MNC     Family   \n",
       "\n",
       "        monthly_rent  ...  existing_loans  current_emi_amount  credit_score  \\\n",
       "0            20000.0  ...             Yes             23700.0         660.0   \n",
       "1                0.0  ...             Yes              4100.0         714.0   \n",
       "2                0.0  ...              No                 0.0         650.0   \n",
       "3                0.0  ...              No                 0.0         685.0   \n",
       "4                0.0  ...              No                 0.0         770.0   \n",
       "...              ...  ...             ...                 ...           ...   \n",
       "404795       10400.0  ...              No                 0.0         649.0   \n",
       "404796           0.0  ...              No                 0.0         712.0   \n",
       "404797        6300.0  ...              No                 0.0         676.0   \n",
       "404798           0.0  ...              No                 0.0         784.0   \n",
       "404799           0.0  ...              No                 0.0         641.0   \n",
       "\n",
       "        bank_balance  emergency_fund             emi_scenario  \\\n",
       "0           303200.0         70200.0        Personal Loan EMI   \n",
       "1            92500.0         26900.0  E-commerce Shopping EMI   \n",
       "2           672100.0        324200.0            Education EMI   \n",
       "3           440900.0        178100.0              Vehicle EMI   \n",
       "4            97300.0         28200.0      Home Appliances EMI   \n",
       "...              ...             ...                      ...   \n",
       "404795       62000.0         32600.0        Personal Loan EMI   \n",
       "404796      142200.0         38100.0        Personal Loan EMI   \n",
       "404797      191600.0         39700.0      Home Appliances EMI   \n",
       "404798      170400.0         45600.0      Home Appliances EMI   \n",
       "404799      214400.0         99400.0      Home Appliances EMI   \n",
       "\n",
       "        requested_amount requested_tenure  emi_eligibility  max_monthly_emi  \n",
       "0               850000.0               15     Not_Eligible            500.0  \n",
       "1               128000.0               19     Not_Eligible            700.0  \n",
       "2               306000.0               16         Eligible          27775.0  \n",
       "3               304000.0               83         Eligible          16170.0  \n",
       "4               252000.0                7     Not_Eligible            500.0  \n",
       "...                  ...              ...              ...              ...  \n",
       "404795          506000.0               47     Not_Eligible            500.0  \n",
       "404796          708000.0               33     Not_Eligible           5200.0  \n",
       "404797           93000.0               21        High_Risk           5665.0  \n",
       "404798          144000.0               36         Eligible          14460.0  \n",
       "404799           77000.0               35         Eligible           8756.0  \n",
       "\n",
       "[404800 rows x 27 columns]>"
      ]
     },
     "execution_count": 3,
     "metadata": {},
     "output_type": "execute_result"
    }
   ],
   "source": [
    "data.count"
   ]
  },
  {
   "cell_type": "code",
   "execution_count": 2,
   "id": "c35b64ea",
   "metadata": {},
   "outputs": [
    {
     "data": {
      "text/plain": [
       "Index(['age', 'gender', 'marital_status', 'education', 'monthly_salary',\n",
       "       'years_of_employment', 'company_type', 'house_type', 'monthly_rent',\n",
       "       'family_size', 'dependents', 'school_fees', 'college_fees',\n",
       "       'travel_expenses', 'groceries_utilities', 'other_monthly_expenses',\n",
       "       'existing_loans', 'current_emi_amount', 'credit_score', 'bank_balance',\n",
       "       'emergency_fund', 'emi_scenario', 'requested_amount',\n",
       "       'requested_tenure', 'emi_eligibility', 'max_monthly_emi',\n",
       "       'employment_type_Government', 'employment_type_Private',\n",
       "       'employment_type_Self-employed'],\n",
       "      dtype='object')"
      ]
     },
     "execution_count": 2,
     "metadata": {},
     "output_type": "execute_result"
    }
   ],
   "source": [
    "data.columns"
   ]
  },
  {
   "cell_type": "code",
   "execution_count": 5,
   "id": "8fc3e83b",
   "metadata": {},
   "outputs": [
    {
     "data": {
      "text/plain": [
       "array(['Female', 'Male', 'female', 'male', 'M', 'MALE', 'F', 'FEMALE'],\n",
       "      dtype=object)"
      ]
     },
     "execution_count": 5,
     "metadata": {},
     "output_type": "execute_result"
    }
   ],
   "source": [
    "data[\"gender\"].unique()"
   ]
  },
  {
   "cell_type": "code",
   "execution_count": 8,
   "id": "6ac5b5ce",
   "metadata": {},
   "outputs": [],
   "source": [
    "data['gender'] = data['gender'].astype(str).str.strip().str.lower()\n",
    "data['gender'] = data['gender'].replace({'^m$': 'male', '^f$': 'female'}, regex=True)\n",
    "data.loc[~data['gender'].isin(['male', 'female']), 'gender'] = pd.NA"
   ]
  },
  {
   "cell_type": "code",
   "execution_count": 11,
   "id": "04d77586",
   "metadata": {},
   "outputs": [
    {
     "data": {
      "text/plain": [
       "array([1, 0])"
      ]
     },
     "execution_count": 11,
     "metadata": {},
     "output_type": "execute_result"
    }
   ],
   "source": [
    "data[\"gender\"].unique()"
   ]
  },
  {
   "cell_type": "code",
   "execution_count": 10,
   "id": "e9e1e235",
   "metadata": {},
   "outputs": [],
   "source": [
    "data['gender'] = data['gender'].map({'male': 0, 'female': 1})"
   ]
  },
  {
   "cell_type": "code",
   "execution_count": 16,
   "id": "5152fcac",
   "metadata": {},
   "outputs": [
    {
     "data": {
      "text/plain": [
       "array([1, 0])"
      ]
     },
     "execution_count": 16,
     "metadata": {},
     "output_type": "execute_result"
    }
   ],
   "source": [
    "data[\"marital_status\"].unique()"
   ]
  },
  {
   "cell_type": "code",
   "execution_count": 13,
   "id": "bf56fa9d",
   "metadata": {},
   "outputs": [],
   "source": [
    "data['marital_status'] = data['marital_status'].astype(str).str.strip().str.lower()"
   ]
  },
  {
   "cell_type": "code",
   "execution_count": 15,
   "id": "10826956",
   "metadata": {},
   "outputs": [],
   "source": [
    "data['marital_status'] = data['marital_status'].map({'single': 0, 'married': 1})"
   ]
  },
  {
   "cell_type": "code",
   "execution_count": 20,
   "id": "82ba4d24",
   "metadata": {},
   "outputs": [
    {
     "data": {
      "text/plain": [
       "array([1, 0])"
      ]
     },
     "execution_count": 20,
     "metadata": {},
     "output_type": "execute_result"
    }
   ],
   "source": [
    "data[\"existing_loans\"].unique()"
   ]
  },
  {
   "cell_type": "code",
   "execution_count": 19,
   "id": "042c78e9",
   "metadata": {},
   "outputs": [],
   "source": [
    "data['existing_loans'] = data['existing_loans'].astype(str).str.strip().str.lower()\n",
    "data['existing_loans'] = data['existing_loans'].map({'no': 0, 'yes': 1})"
   ]
  },
  {
   "cell_type": "markdown",
   "id": "ef1b623e",
   "metadata": {},
   "source": [
    "# pre-processing"
   ]
  },
  {
   "cell_type": "code",
   "execution_count": 21,
   "id": "9d9a06ea",
   "metadata": {},
   "outputs": [
    {
     "name": "stderr",
     "output_type": "stream",
     "text": [
      "C:\\Users\\haris\\AppData\\Local\\Temp\\ipykernel_8880\\2077552529.py:3: DtypeWarning: Columns (0) have mixed types. Specify dtype option on import or set low_memory=False.\n",
      "  data = pd.read_csv(r\"../dataset/emi_prediction_dataset.csv\")\n"
     ]
    },
    {
     "name": "stdout",
     "output_type": "stream",
     "text": [
      "Tree model data (one-hot):\n",
      "    age monthly_salary  years_of_employment  monthly_rent  family_size  \\\n",
      "0  38.0        82600.0                  0.9       20000.0            3   \n",
      "1  38.0        21500.0                  7.0           0.0            2   \n",
      "2  38.0        86100.0                  5.8           0.0            4   \n",
      "3  58.0        66800.0                  2.2           0.0            5   \n",
      "4  48.0        57300.0                  3.4           0.0            4   \n",
      "\n",
      "   dependents  school_fees  college_fees  travel_expenses  \\\n",
      "0           2          0.0           0.0           7200.0   \n",
      "1           1       5100.0           0.0           1400.0   \n",
      "2           3          0.0           0.0          10200.0   \n",
      "3           4      11400.0           0.0           6200.0   \n",
      "4           3       9400.0       21300.0           3600.0   \n",
      "\n",
      "   groceries_utilities  ...  company_type_MNC  company_type_Mid-size  \\\n",
      "0              19500.0  ...                 0                      1   \n",
      "1               5400.0  ...                 1                      0   \n",
      "2              19400.0  ...                 0                      0   \n",
      "3              11900.0  ...                 0                      1   \n",
      "4              16200.0  ...                 0                      1   \n",
      "\n",
      "   company_type_Small  company_type_Startup house_type_Family  house_type_Own  \\\n",
      "0                   0                     0                 0               0   \n",
      "1                   0                     0                 1               0   \n",
      "2                   0                     1                 0               1   \n",
      "3                   0                     0                 0               1   \n",
      "4                   0                     0                 1               0   \n",
      "\n",
      "  house_type_Rented  emi_eligibility_Eligible  emi_eligibility_High_Risk  \\\n",
      "0                 1                         0                          0   \n",
      "1                 0                         0                          0   \n",
      "2                 0                         1                          0   \n",
      "3                 0                         1                          0   \n",
      "4                 0                         0                          0   \n",
      "\n",
      "   emi_eligibility_Not_Eligible  \n",
      "0                             1  \n",
      "1                             1  \n",
      "2                             0  \n",
      "3                             0  \n",
      "4                             1  \n",
      "\n",
      "[5 rows x 48 columns]\n"
     ]
    }
   ],
   "source": [
    "import pandas as pd\n",
    "\n",
    "data = pd.read_csv(r\"../dataset/emi_prediction_dataset.csv\")\n",
    "\n",
    "# Columns\n",
    "binary_cols = ['existing_loans']\n",
    "categorical_cols = ['gender', 'marital_status', 'education', 'employment_type', 'company_type', 'house_type']\n",
    "target_col = 'emi_eligibility'\n",
    "\n",
    "# Example ordinal mapping for target to one-hot later\n",
    "# We'll let get_dummies handle it for multi-class one-hot\n",
    "data_tree = data.copy()\n",
    "\n",
    "# Binary column kept as-is\n",
    "# One-hot encode categorical + target\n",
    "data_tree = pd.get_dummies(data_tree, columns=categorical_cols + [target_col], dtype=int)\n",
    "\n",
    "# Add existing_loans as binary\n",
    "data_tree['existing_loans'] = data['existing_loans'].map({'No': 0, 'Yes': 1})\n",
    "\n",
    "# Final tree model features (excluding target one-hot columns)\n",
    "tree_features = [col for col in data_tree.columns if col not in [c for c in data_tree.columns if target_col in c]]\n",
    "\n",
    "print(\"Tree model data (one-hot):\")\n",
    "print(data_tree.head())\n"
   ]
  },
  {
   "cell_type": "code",
   "execution_count": 22,
   "id": "126726ee",
   "metadata": {},
   "outputs": [
    {
     "name": "stderr",
     "output_type": "stream",
     "text": [
      "C:\\Users\\haris\\AppData\\Local\\Temp\\ipykernel_8880\\239596384.py:3: DtypeWarning: Columns (0) have mixed types. Specify dtype option on import or set low_memory=False.\n",
      "  data = pd.read_csv(r\"../dataset/emi_prediction_dataset.csv\")\n"
     ]
    },
    {
     "name": "stdout",
     "output_type": "stream",
     "text": [
      "Linear model data (ordinal):\n",
      "   existing_loans  gender_ord  marital_status_ord  education_ord  \\\n",
      "0               1         NaN                   1            3.0   \n",
      "1               1         NaN                   1            1.0   \n",
      "2               0         NaN                   1            3.0   \n",
      "3               0         NaN                   1            0.0   \n",
      "4               0         NaN                   1            3.0   \n",
      "\n",
      "   employment_type_ord  company_type_ord  house_type_ord  emi_eligibility_ord  \n",
      "0                    0                 2               0                    0  \n",
      "1                    0                 4               1                    0  \n",
      "2                    0                 0               2                    1  \n",
      "3                    0                 2               2                    1  \n",
      "4                    0                 2               1                    0  \n"
     ]
    }
   ],
   "source": [
    "import pandas as pd\n",
    "\n",
    "data = pd.read_csv(r\"../dataset/emi_prediction_dataset.csv\")\n",
    "\n",
    "# Define ordinal mappings\n",
    "gender_order = {'male': 0, 'female': 1}\n",
    "marital_order = {'Single': 0, 'Married': 1, 'Divorced': 2}\n",
    "education_order = {'High School': 0, 'Graduate': 1, 'Post Graduate': 2, 'Professional': 3}\n",
    "employment_order = {'Private': 0, 'Government': 1, 'Self-employed': 2}\n",
    "company_order = {'Startup': 0, 'Small': 1, 'Mid-size': 2, 'Large Indian': 3, 'MNC': 4}\n",
    "house_order = {'Rented': 0, 'Family': 1, 'Own': 2}\n",
    "emi_order = {'Not_Eligible': 0, 'Eligible': 1, 'High_Risk': 2}\n",
    "\n",
    "# Copy data\n",
    "data_linear = data.copy()\n",
    "\n",
    "# Encode categorical columns\n",
    "data_linear['gender_ord'] = data_linear['gender'].map(gender_order)\n",
    "data_linear['marital_status_ord'] = data_linear['marital_status'].map(marital_order)\n",
    "data_linear['education_ord'] = data_linear['education'].map(education_order)\n",
    "data_linear['employment_type_ord'] = data_linear['employment_type'].map(employment_order)\n",
    "data_linear['company_type_ord'] = data_linear['company_type'].map(company_order)\n",
    "data_linear['house_type_ord'] = data_linear['house_type'].map(house_order)\n",
    "\n",
    "# Binary column\n",
    "data_linear['existing_loans'] = data_linear['existing_loans'].map({'No': 0, 'Yes': 1})\n",
    "\n",
    "# Encode target\n",
    "data_linear['emi_eligibility_ord'] = data_linear['emi_eligibility'].map(emi_order)\n",
    "\n",
    "# Keep binary column as-is\n",
    "# You can drop original categorical columns if you want\n",
    "linear_features = ['existing_loans', 'gender_ord', 'marital_status_ord', 'education_ord',\n",
    "                   'employment_type_ord', 'company_type_ord', 'house_type_ord']\n",
    "\n",
    "print(\"Linear model data (ordinal):\")\n",
    "print(data_linear[linear_features + ['emi_eligibility_ord']].head())"
   ]
  },
  {
   "cell_type": "code",
   "execution_count": null,
   "id": "1d4e24d9",
   "metadata": {},
   "outputs": [],
   "source": [
    "import pandas as pd\n",
    "\n",
    "def encode_columns_dynamic(df, columns, encoding_type=\"one-hot\", ordinal_maps=None, binary_maps=None, target_col=None):\n",
    "    \"\"\"\n",
    "    Dynamically encode specified columns based on encoding type.\n",
    "\n",
    "    Parameters:\n",
    "        df (pd.DataFrame): Input DataFrame\n",
    "        columns (list): Columns to encode\n",
    "        encoding_type (str): 'one-hot', 'ordinal', or 'binary'\n",
    "        ordinal_maps (dict, optional): Dictionary of column-wise mapping for ordinal encoding\n",
    "        target_col (str, optional): Target column to encode\n",
    "\n",
    "    Returns:\n",
    "        pd.DataFrame: Encoded DataFrame\n",
    "    \"\"\"\n",
    "    df_encoded = df.copy()\n",
    "    \n",
    "    # Apply encoding per type\n",
    "    if encoding_type == \"binary\":\n",
    "        if not binary_maps:\n",
    "            raise ValueError(\"binary_maps must be provided for binary encoding\")\n",
    "        for col in columns:\n",
    "            if col in binary_maps:\n",
    "                df_encoded[col] = df_encoded[col].map(binary_maps[col])\n",
    "    \n",
    "    elif encoding_type == \"ordinal\":\n",
    "        if not ordinal_maps:\n",
    "            raise ValueError(\"ordinal_maps must be provided for ordinal encoding\")\n",
    "        for col in columns:\n",
    "            if col in ordinal_maps:\n",
    "                df_encoded[col] = df_encoded[col].map(ordinal_maps[col])\n",
    "        if target_col and target_col in ordinal_maps:\n",
    "            df_encoded[target_col] = df_encoded[target_col].map(ordinal_maps[target_col])\n",
    "    \n",
    "    elif encoding_type == \"one-hot\":\n",
    "        all_cols = columns.copy()\n",
    "        if target_col:\n",
    "            all_cols.append(target_col)\n",
    "        df_encoded = pd.get_dummies(df_encoded, columns=all_cols, dtype=int)\n",
    "    \n",
    "    else:\n",
    "        raise ValueError(\"encoding_type must be 'one-hot', 'ordinal', or 'binary'\")\n",
    "    \n",
    "    return df_encoded\n",
    "\n",
    "ordinal_maps = {\n",
    "    'gender': {'male':0, 'female':1},\n",
    "    'marital_status': {'Single':0, 'Married':1, 'Divorced':2},\n",
    "    'education': {'High School':0, 'Graduate':1, 'Post Graduate':2, 'Professional':3},\n",
    "    'employment_type': {'Private':0, 'Government':1, 'Self-employed':2},\n",
    "    'company_type': {'Startup':0, 'Small':1, 'Mid-size':2, 'Large Indian':3, 'MNC':4},\n",
    "    'house_type': {'Rented':0, 'Family':1, 'Own':2},\n",
    "    'emi_eligibility': {'Not_Eligible':0, 'Eligible':1, 'High_Risk':2}\n",
    "}\n",
    "\n",
    "binary_maps = {'existing_loans': {'No': 0, 'Yes': 1}}\n"
   ]
  },
  {
   "cell_type": "code",
   "execution_count": null,
   "id": "c5bb2d5f",
   "metadata": {},
   "outputs": [],
   "source": [
    "import pandas as pd\n",
    "\n",
    "def encode_columns_fully_dynamic(df, columns, encoding_type=\"one-hot\",\n",
    "                                 ordinal_maps=None, binary_maps=None, target_col=None, to_numeric_cols=None):\n",
    "    \"\"\"\n",
    "    Encode specified columns dynamically using one-hot, ordinal, or binary encoding.\n",
    "    \n",
    "    Parameters:\n",
    "        df (pd.DataFrame): Input DataFrame\n",
    "        columns (list): List of columns to encode\n",
    "        encoding_type (str): 'one-hot', 'ordinal', or 'binary'\n",
    "        ordinal_maps (dict, optional): Dictionary of column-wise mappings for ordinal encoding\n",
    "        binary_maps (dict, optional): Dictionary of column-wise mappings for binary encoding\n",
    "        target_col (str, optional): Target column to encode similarly\n",
    "        \n",
    "    Returns:\n",
    "        pd.DataFrame: Encoded DataFrame\n",
    "    \"\"\"\n",
    "    df_encoded = df.copy()\n",
    "\n",
    "    # Convert to numeric first if specified\n",
    "    if to_numeric_cols:\n",
    "        for col in to_numeric_cols:\n",
    "            df_encoded[col] = pd.to_numeric(df_encoded[col], errors='coerce')\n",
    "    \n",
    "    if encoding_type == \"binary\":\n",
    "        if not binary_maps:\n",
    "            raise ValueError(\"binary_maps must be provided for binary encoding\")\n",
    "        for col in columns:\n",
    "            if col in binary_maps:\n",
    "                df_encoded[col] = df_encoded[col].map(binary_maps[col])\n",
    "                \n",
    "    elif encoding_type == \"ordinal\":\n",
    "        if not ordinal_maps:\n",
    "            raise ValueError(\"ordinal_maps must be provided for ordinal encoding\")\n",
    "        for col in columns:\n",
    "            if col in ordinal_maps:\n",
    "                df_encoded[col] = df_encoded[col].map(ordinal_maps[col])\n",
    "        if target_col and target_col in ordinal_maps:\n",
    "            df_encoded[target_col] = df_encoded[target_col].map(ordinal_maps[target_col])\n",
    "    \n",
    "    elif encoding_type == \"one-hot\":\n",
    "        all_cols = columns.copy()\n",
    "        if target_col:\n",
    "            all_cols.append(target_col)\n",
    "        df_encoded = pd.get_dummies(df_encoded, columns=all_cols, dtype=int)\n",
    "    \n",
    "    else:\n",
    "        raise ValueError(\"encoding_type must be 'one-hot', 'ordinal', or 'binary'\")\n",
    "    \n",
    "    return df_encoded\n",
    "\n",
    "\n",
    "# Dynamic ordinal maps\n",
    "ordinal_maps = {\n",
    "    'gender': {'male':0, 'female':1},\n",
    "    'marital_status': {'Single':0, 'Married':1, 'Divorced':2},\n",
    "    'education': {'High School':0, 'Graduate':1, 'Post Graduate':2, 'Professional':3},\n",
    "    'employment_type': {'Private':0, 'Government':1, 'Self-employed':2},\n",
    "    'company_type': {'Startup':0, 'Small':1, 'Mid-size':2, 'Large Indian':3, 'MNC':4},\n",
    "    'house_type': {'Rented':0, 'Family':1, 'Own':2},\n",
    "    'emi_eligibility': {'Not_Eligible':0, 'Eligible':1, 'High_Risk':2}\n",
    "}\n",
    "\n",
    "# Binary maps\n",
    "binary_maps = {'existing_loans': {'No': 0, 'Yes': 1}}\n",
    "\n",
    "cols = ['gender', 'marital_status', 'education', 'employment_type', 'company_type', 'house_type']\n",
    "\n",
    "# Binary encoding for existing_loans\n",
    "data_binary = encode_columns_fully_dynamic(\n",
    "    data, columns=['existing_loans'], encoding_type=\"binary\", binary_maps=binary_maps\n",
    ")\n",
    "\n",
    "# Ordinal encoding for selected columns + target\n",
    "data_linear = encode_columns_fully_dynamic(\n",
    "    data, columns=cols, encoding_type=\"ordinal\", ordinal_maps=ordinal_maps, target_col='emi_eligibility'\n",
    ")\n",
    "\n",
    "# One-hot encoding for selected columns + target\n",
    "data_tree = encode_columns_fully_dynamic(\n",
    "    data, columns=cols, encoding_type=\"one-hot\", target_col='emi_eligibility'\n",
    ")\n",
    "\n",
    "\n",
    "\n",
    "def preprocess_columns(df, preprocess_map):\n",
    "    \"\"\"\n",
    "    Dynamically preprocess specified columns before encoding.\n",
    "\n",
    "    Parameters:\n",
    "        df (pd.DataFrame): Input DataFrame\n",
    "        preprocess_map (dict): Dictionary specifying preprocessing type for each column\n",
    "            Example:\n",
    "            {\n",
    "                'age': 'numeric_clean',\n",
    "                'gender': 'lower_strip_replace',\n",
    "                'marital_status': 'lower_strip'\n",
    "            }\n",
    "\n",
    "    Returns:\n",
    "        pd.DataFrame: Preprocessed DataFrame\n",
    "    \"\"\"\n",
    "    df_clean = df.copy()\n",
    "\n",
    "    for col, ptype in preprocess_map.items():\n",
    "        if col not in df_clean.columns:\n",
    "            continue\n",
    "\n",
    "        if ptype == \"numeric_clean\":\n",
    "            df_clean[col] = (\n",
    "                df_clean[col].astype(str)\n",
    "                .str.strip()                                  # remove spaces\n",
    "                .str.replace(r'[^0-9.]', '', regex=True)     # keep only digits and dots\n",
    "                .str.replace(r'(\\.\\d*)\\..*', r'\\1', regex=True)  # keep only first decimal\n",
    "            )\n",
    "            df_clean[col] = pd.to_numeric(df_clean[col], errors='coerce')\n",
    "\n",
    "        elif ptype == \"lower_strip\":\n",
    "            df_clean[col] = df_clean[col].astype(str).str.strip().str.lower()\n",
    "            df_clean[col] = df_clean[col].replace(r'^\\s*$', pd.NA, regex=True)\n",
    "\n",
    "        elif ptype == \"lower_strip_replace\":\n",
    "            df_clean[col] = df_clean[col].astype(str).str.strip().str.lower()\n",
    "            df_clean[col] = df_clean[col].replace(r'^\\s*$', pd.NA, regex=True)\n",
    "            # Example for gender: convert single letters to full\n",
    "            if col == \"gender\":\n",
    "                df_clean[col] = df_clean[col].replace({'^m$': 'male', '^f$': 'female'}, regex=True)\n",
    "\n",
    "        elif ptype == \"custom_regex\":\n",
    "            # Placeholder for any other regex replacements\n",
    "            pass\n",
    "\n",
    "        else:\n",
    "            # Default: just strip spaces\n",
    "            df_clean[col] = df_clean[col].astype(str).str.strip()\n",
    "\n",
    "    return df_clean\n",
    "\n",
    "\n",
    "preprocess_map = {\n",
    "    'age': 'numeric_clean',\n",
    "    'gender': 'lower_strip_replace',\n",
    "    'marital_status': 'lower_strip'\n",
    "}\n",
    "\n",
    "data_clean = preprocess_columns(data, preprocess_map)\n",
    "\n",
    "# Then pass the cleaned data to your dynamic encoding function\n",
    "cols = ['gender', 'marital_status', 'education', 'employment_type', 'company_type', 'house_type']\n",
    "data_linear = encode_columns_fully_dynamic(data_clean, columns=cols, encoding_type=\"ordinal\",\n",
    "                                 ordinal_maps=ordinal_maps, target_col='emi_eligibility')\n"
   ]
  },
  {
   "cell_type": "code",
   "execution_count": null,
   "id": "a3e59cb3",
   "metadata": {},
   "outputs": [],
   "source": [
    "def preprocess_and_encode(df, preprocess_map=None, numeric_cols=None, encode_cols=None,\n",
    "                          encoding_type=None, ordinal_maps=None, binary_maps=None, target_col=None):\n",
    "    \"\"\"\n",
    "    Wrapper function to run preprocessing and encoding in one line while keeping modularity.\n",
    "    \"\"\"\n",
    "    df_clean = df.copy()\n",
    "    if preprocess_map:\n",
    "        df_clean = preprocess_columns(df_clean, preprocess_map)\n",
    "    df_encoded = encode_columns_fully_dynamic(df_clean, columns=encode_cols, encoding_type=encoding_type,\n",
    "                                    ordinal_maps=ordinal_maps, binary_maps=binary_maps,\n",
    "                                    target_col=target_col, to_numeric_cols=numeric_cols)\n",
    "    return df_encoded"
   ]
  },
  {
   "cell_type": "code",
   "execution_count": 23,
   "id": "31a499b3",
   "metadata": {},
   "outputs": [
    {
     "name": "stderr",
     "output_type": "stream",
     "text": [
      "C:\\Users\\haris\\AppData\\Local\\Temp\\ipykernel_8880\\203669497.py:1: DtypeWarning: Columns (0) have mixed types. Specify dtype option on import or set low_memory=False.\n",
      "  data = pd.read_csv(r\"../dataset/emi_prediction_dataset.csv\")\n"
     ]
    }
   ],
   "source": [
    "data = pd.read_csv(r\"../dataset/emi_prediction_dataset.csv\")"
   ]
  },
  {
   "cell_type": "code",
   "execution_count": 24,
   "id": "bf541668",
   "metadata": {},
   "outputs": [
    {
     "data": {
      "text/plain": [
       "Index(['age', 'gender', 'marital_status', 'education', 'monthly_salary',\n",
       "       'employment_type', 'years_of_employment', 'company_type', 'house_type',\n",
       "       'monthly_rent', 'family_size', 'dependents', 'school_fees',\n",
       "       'college_fees', 'travel_expenses', 'groceries_utilities',\n",
       "       'other_monthly_expenses', 'existing_loans', 'current_emi_amount',\n",
       "       'credit_score', 'bank_balance', 'emergency_fund', 'emi_scenario',\n",
       "       'requested_amount', 'requested_tenure', 'emi_eligibility',\n",
       "       'max_monthly_emi'],\n",
       "      dtype='object')"
      ]
     },
     "execution_count": 24,
     "metadata": {},
     "output_type": "execute_result"
    }
   ],
   "source": [
    "data.columns"
   ]
  },
  {
   "cell_type": "code",
   "execution_count": 26,
   "id": "7cd2efc2",
   "metadata": {},
   "outputs": [
    {
     "data": {
      "text/plain": [
       "array([38.0, 58.0, 48.0, 32.0, 27.0, 47.0, 37.0, 31.0, 59.0, 49.0, 33.0,\n",
       "       26.0, 39.0, 57.0, 28.0, '58', '38', '48', '32', '27', '37', '48.0',\n",
       "       '33', '38.0', '49', '27.0', '31', '39', '47', '59', '32.0', '58.0',\n",
       "       '57', '26', '28', '58.0.0', '39.0', '26.0', '37.0', '38.0.0',\n",
       "       '32.0.0'], dtype=object)"
      ]
     },
     "execution_count": 26,
     "metadata": {},
     "output_type": "execute_result"
    }
   ],
   "source": [
    "data[\"age\"].unique()"
   ]
  },
  {
   "cell_type": "code",
   "execution_count": 25,
   "id": "eb0d7859",
   "metadata": {},
   "outputs": [
    {
     "data": {
      "text/plain": [
       "age                        object\n",
       "gender                     object\n",
       "marital_status             object\n",
       "education                  object\n",
       "monthly_salary             object\n",
       "employment_type            object\n",
       "years_of_employment       float64\n",
       "company_type               object\n",
       "house_type                 object\n",
       "monthly_rent              float64\n",
       "family_size                 int64\n",
       "dependents                  int64\n",
       "school_fees               float64\n",
       "college_fees              float64\n",
       "travel_expenses           float64\n",
       "groceries_utilities       float64\n",
       "other_monthly_expenses    float64\n",
       "existing_loans             object\n",
       "current_emi_amount        float64\n",
       "credit_score              float64\n",
       "bank_balance               object\n",
       "emergency_fund            float64\n",
       "emi_scenario               object\n",
       "requested_amount          float64\n",
       "requested_tenure            int64\n",
       "emi_eligibility            object\n",
       "max_monthly_emi           float64\n",
       "dtype: object"
      ]
     },
     "execution_count": 25,
     "metadata": {},
     "output_type": "execute_result"
    }
   ],
   "source": [
    "data.dtypes"
   ]
  },
  {
   "cell_type": "code",
   "execution_count": null,
   "id": "4aa68fa8",
   "metadata": {},
   "outputs": [],
   "source": []
  }
 ],
 "metadata": {
  "kernelspec": {
   "display_name": "Python 3",
   "language": "python",
   "name": "python3"
  },
  "language_info": {
   "codemirror_mode": {
    "name": "ipython",
    "version": 3
   },
   "file_extension": ".py",
   "mimetype": "text/x-python",
   "name": "python",
   "nbconvert_exporter": "python",
   "pygments_lexer": "ipython3",
   "version": "3.12.8"
  }
 },
 "nbformat": 4,
 "nbformat_minor": 5
}
